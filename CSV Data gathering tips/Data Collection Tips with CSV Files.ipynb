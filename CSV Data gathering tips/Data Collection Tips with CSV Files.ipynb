{
 "cells": [
  {
   "cell_type": "code",
   "execution_count": 1,
   "id": "05b81cf2",
   "metadata": {},
   "outputs": [],
   "source": [
    "import pandas as pd"
   ]
  },
  {
   "cell_type": "code",
   "execution_count": 7,
   "id": "334ee04f",
   "metadata": {},
   "outputs": [],
   "source": [
    "df=pd.read_csv('nyc_weather.csv')"
   ]
  },
  {
   "cell_type": "code",
   "execution_count": null,
   "id": "4c264ef0",
   "metadata": {},
   "outputs": [],
   "source": [
    "df"
   ]
  },
  {
   "cell_type": "markdown",
   "id": "83837b21",
   "metadata": {},
   "source": [
    "# 1.Collecting data  from a URL"
   ]
  },
  {
   "cell_type": "code",
   "execution_count": 40,
   "id": "071347b0",
   "metadata": {},
   "outputs": [],
   "source": [
    "import requests\n",
    "from io import StringIO\n",
    "\n",
    "\n",
    "#url=\"\"\n",
    "#headers={\"User-Agent\":\"Mozilla/5.0 (Macintosh; Intel Mac OS X 10.14; rv:66.0) Gecko/20100101 Firefox/66.0\"}\n",
    "#req=requests.get(url,headers=headers)\n",
    "#data=StringIO(req.text)\n"
   ]
  },
  {
   "cell_type": "code",
   "execution_count": 41,
   "id": "3e319766",
   "metadata": {},
   "outputs": [
    {
     "data": {
      "text/plain": [
       "'\\nurl=\"https://raw.githubusercontent.com/cs109/2014_data/master/countries.csv\"\\nheaders={\"User-Agent\":\"Mozilla/5.0 (Macintosh; Intel Mac OS X 10.14; rv:66.0) Gecko/20100101 Firefox/66.0\"}\\nreq=requests.get(url,headers=headers)\\ndata=StringIO(req.text)\\ndf1=pd.read_csv(data) \\n'"
      ]
     },
     "execution_count": 41,
     "metadata": {},
     "output_type": "execute_result"
    }
   ],
   "source": [
    "'''\n",
    "import requests\n",
    "from io import StringIO\n",
    "\n",
    "url=\"https://raw.githubusercontent.com/cs109/2014_data/master/countries.csv\"\n",
    "headers={\"User-Agent\":\"Mozilla/5.0 (Macintosh; Intel Mac OS X 10.14; rv:66.0) Gecko/20100101 Firefox/66.0\"}\n",
    "req=requests.get(url,headers=headers)\n",
    "data=StringIO(req.text)\n",
    "df1=pd.read_csv(data) \n",
    "'''"
   ]
  },
  {
   "cell_type": "markdown",
   "id": "d016d7fb",
   "metadata": {},
   "source": [
    "# 2.Sep Parameter"
   ]
  },
  {
   "cell_type": "code",
   "execution_count": 42,
   "id": "dc5a5b7e",
   "metadata": {},
   "outputs": [],
   "source": [
    "#  df=pd.read_csv('file_name',sep='Separator_like_\\t')"
   ]
  },
  {
   "cell_type": "code",
   "execution_count": 43,
   "id": "70e09864",
   "metadata": {},
   "outputs": [],
   "source": [
    "# if column names are missing then pass the column names as alist to name para\n",
    "# df=pd.read_csv('file_name',sep='Separator_like_\\t',name=['col1'.'col2'..])"
   ]
  },
  {
   "cell_type": "markdown",
   "id": "1bc092e4",
   "metadata": {},
   "source": [
    "# 3.index_col parameter"
   ]
  },
  {
   "cell_type": "code",
   "execution_count": 48,
   "id": "7a0efa75",
   "metadata": {},
   "outputs": [],
   "source": [
    "df=pd.read_csv('nyc_weather.csv')\n",
    "df"
   ]
  },
  {
   "cell_type": "code",
   "execution_count": 45,
   "id": "acefaef0",
   "metadata": {},
   "outputs": [],
   "source": [
    "df=pd.read_csv('nyc_weather.csv',index_col='EST')"
   ]
  },
  {
   "cell_type": "code",
   "execution_count": null,
   "id": "083e963c",
   "metadata": {},
   "outputs": [],
   "source": [
    "df"
   ]
  },
  {
   "cell_type": "markdown",
   "id": "668a0bd8",
   "metadata": {},
   "source": [
    "# 4.Header parameter\n"
   ]
  },
  {
   "cell_type": "code",
   "execution_count": 47,
   "id": "4b149c9d",
   "metadata": {},
   "outputs": [],
   "source": [
    "# if header details are missing  header para\n",
    "# df=pd.read_csv('file name', header=1)\n"
   ]
  },
  {
   "cell_type": "markdown",
   "id": "9e5822ca",
   "metadata": {},
   "source": [
    "# 5. usecols parameter"
   ]
  },
  {
   "cell_type": "code",
   "execution_count": 30,
   "id": "1f84d143",
   "metadata": {},
   "outputs": [],
   "source": [
    "# df=pd.read_csv('file name', usecols=['col1','col2','col23'])"
   ]
  },
  {
   "cell_type": "markdown",
   "id": "888ac81f",
   "metadata": {},
   "source": [
    "# 6. skiprows & nrows"
   ]
  },
  {
   "cell_type": "code",
   "execution_count": 31,
   "id": "75de7aa7",
   "metadata": {},
   "outputs": [],
   "source": [
    "# df=pd.read_csv('file name', skiprows=[index1,index2...])\n",
    "# df=pd.read_csv('file name', nrows=[100]) resricts by 100 rows"
   ]
  },
  {
   "cell_type": "markdown",
   "id": "0f66ee68",
   "metadata": {},
   "source": [
    "# 7.Encoding=' '  "
   ]
  },
  {
   "cell_type": "code",
   "execution_count": null,
   "id": "2ea56ec2",
   "metadata": {},
   "outputs": [],
   "source": [
    "# code snippet to find the endong of a csv file if any difficulty in reading the file\n",
    "import chardet\n",
    "\n",
    "with open('filename', 'rb') as f:\n",
    "    result = chardet.detect(f.read())\n",
    "\n",
    "print(result['encoding'])\n"
   ]
  },
  {
   "cell_type": "code",
   "execution_count": null,
   "id": "8a52fb81",
   "metadata": {},
   "outputs": [],
   "source": [
    "#Sample \n",
    "#df= pd.read_csv('Onyx Data -DataDNA Dataset Challenge - Top 1000 YouTubers - November 2023.csv',encoding='ISO-8859-1')"
   ]
  },
  {
   "cell_type": "markdown",
   "id": "25440e1f",
   "metadata": {},
   "source": [
    "#  8.Skip bad lines"
   ]
  },
  {
   "cell_type": "code",
   "execution_count": 32,
   "id": "b1d036c3",
   "metadata": {},
   "outputs": [],
   "source": [
    "error_bad_line=False"
   ]
  },
  {
   "cell_type": "markdown",
   "id": "1d969ebc",
   "metadata": {},
   "source": [
    "# 9.dtype  para"
   ]
  },
  {
   "cell_type": "code",
   "execution_count": 33,
   "id": "9ebabf69",
   "metadata": {},
   "outputs": [],
   "source": [
    "# to chage the col datatype\n",
    "# df=pd.read_csv('file name',dtype={\"col_nmae\":datatype})"
   ]
  },
  {
   "cell_type": "markdown",
   "id": "6b168489",
   "metadata": {},
   "source": [
    "# 10.Handling Dates"
   ]
  },
  {
   "cell_type": "code",
   "execution_count": 34,
   "id": "5e39428e",
   "metadata": {},
   "outputs": [],
   "source": [
    "# converting string column to date column\n",
    "# df=pd.read_csv('file name',parse_dates=['col_name'])  "
   ]
  },
  {
   "cell_type": "code",
   "execution_count": 36,
   "id": "64de1f25",
   "metadata": {},
   "outputs": [],
   "source": [
    "# combining 3 columns to single date column\n",
    "# df=pd.read_csv('file name',parse_dates=[[index1,index2,index3]])"
   ]
  },
  {
   "cell_type": "markdown",
   "id": "c128f722",
   "metadata": {},
   "source": [
    "# 11.Convertors"
   ]
  },
  {
   "cell_type": "code",
   "execution_count": 37,
   "id": "8561c706",
   "metadata": {},
   "outputs": [],
   "source": [
    "# df=pd.read_csv('file name',convertor={col_name':function_name_to be_applied})  "
   ]
  },
  {
   "cell_type": "markdown",
   "id": "603dc860",
   "metadata": {},
   "source": [
    "# 12.na_values parameter"
   ]
  },
  {
   "cell_type": "code",
   "execution_count": null,
   "id": "203f99f3",
   "metadata": {},
   "outputs": [],
   "source": [
    "df=pd.read_csv('file name',na_values=['-'])  # to replace the symbols like - in the "
   ]
  },
  {
   "cell_type": "markdown",
   "id": "74b32c08",
   "metadata": {},
   "source": [
    "# 13.Loading huge data sets in chunks\n"
   ]
  },
  {
   "cell_type": "code",
   "execution_count": 38,
   "id": "d99be04a",
   "metadata": {},
   "outputs": [],
   "source": [
    "# df=pd.read_csv('file name',chunksize=number) "
   ]
  },
  {
   "cell_type": "code",
   "execution_count": null,
   "id": "fc836d5d",
   "metadata": {},
   "outputs": [],
   "source": [
    "for chunks in df:\n",
    "    print(chunk.shape)"
   ]
  },
  {
   "cell_type": "code",
   "execution_count": null,
   "id": "c9c4a84a",
   "metadata": {},
   "outputs": [],
   "source": []
  }
 ],
 "metadata": {
  "kernelspec": {
   "display_name": "Python 3 (ipykernel)",
   "language": "python",
   "name": "python3"
  },
  "language_info": {
   "codemirror_mode": {
    "name": "ipython",
    "version": 3
   },
   "file_extension": ".py",
   "mimetype": "text/x-python",
   "name": "python",
   "nbconvert_exporter": "python",
   "pygments_lexer": "ipython3",
   "version": "3.11.5"
  }
 },
 "nbformat": 4,
 "nbformat_minor": 5
}
