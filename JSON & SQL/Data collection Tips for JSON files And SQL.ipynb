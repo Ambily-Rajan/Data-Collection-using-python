{
 "cells": [
  {
   "cell_type": "markdown",
   "id": "20a633e3",
   "metadata": {},
   "source": [
    "# JSON"
   ]
  },
  {
   "cell_type": "code",
   "execution_count": null,
   "id": "e56640c0",
   "metadata": {},
   "outputs": [],
   "source": [
    "import pandas as pd"
   ]
  },
  {
   "cell_type": "code",
   "execution_count": 4,
   "id": "aeeaf1ea",
   "metadata": {},
   "outputs": [],
   "source": [
    "# Reading from a file\n",
    "# pd.read_json('file_name')"
   ]
  },
  {
   "cell_type": "code",
   "execution_count": 5,
   "id": "5b83e914",
   "metadata": {},
   "outputs": [],
   "source": [
    "# Reading json data from a ural"
   ]
  },
  {
   "cell_type": "code",
   "execution_count": 6,
   "id": "efc71dea",
   "metadata": {},
   "outputs": [],
   "source": [
    "#pd.read_json('url')"
   ]
  },
  {
   "cell_type": "markdown",
   "id": "1d8689af",
   "metadata": {},
   "source": [
    "# SQL"
   ]
  },
  {
   "cell_type": "code",
   "execution_count": 7,
   "id": "ca87033d",
   "metadata": {},
   "outputs": [],
   "source": [
    "import mysql.connector"
   ]
  },
  {
   "cell_type": "code",
   "execution_count": 8,
   "id": "02acac82",
   "metadata": {},
   "outputs": [
    {
     "data": {
      "text/plain": [
       "\"\\nmysql.connector.connect(\\n host='localhost',\\n user= 'root',\\n    password='root'\\n)\""
      ]
     },
     "execution_count": 8,
     "metadata": {},
     "output_type": "execute_result"
    }
   ],
   "source": [
    "# establishing connection\n",
    "'''\n",
    "myconnection=mysql.connector.connect(\n",
    " host='localhost',\n",
    " user= 'root',\n",
    "    password='root'\n",
    "    db='db_name'\n",
    ")'''"
   ]
  },
  {
   "cell_type": "code",
   "execution_count": 10,
   "id": "5f893583",
   "metadata": {},
   "outputs": [],
   "source": [
    "# df=pd.read_sql_query('select * from db_name',myconnection)"
   ]
  },
  {
   "cell_type": "code",
   "execution_count": null,
   "id": "526a9158",
   "metadata": {},
   "outputs": [],
   "source": [
    "df"
   ]
  }
 ],
 "metadata": {
  "kernelspec": {
   "display_name": "Python 3 (ipykernel)",
   "language": "python",
   "name": "python3"
  },
  "language_info": {
   "codemirror_mode": {
    "name": "ipython",
    "version": 3
   },
   "file_extension": ".py",
   "mimetype": "text/x-python",
   "name": "python",
   "nbconvert_exporter": "python",
   "pygments_lexer": "ipython3",
   "version": "3.11.5"
  }
 },
 "nbformat": 4,
 "nbformat_minor": 5
}
